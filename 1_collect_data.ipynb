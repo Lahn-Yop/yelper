{
 "cells": [
  {
   "cell_type": "markdown",
   "metadata": {},
   "source": [
    "# Yelp API"
   ]
  },
  {
   "cell_type": "code",
   "execution_count": 2,
   "metadata": {},
   "outputs": [],
   "source": [
    "import psycopg2\n",
    "import yaml\n",
    "import requests\n",
    "from pprint import pprint"
   ]
  },
  {
   "cell_type": "markdown",
   "metadata": {},
   "source": [
    "## Connect to PostgreSQL database"
   ]
  },
  {
   "cell_type": "code",
   "execution_count": 3,
   "metadata": {},
   "outputs": [],
   "source": [
    "# connect to the databse\n",
    "conn = psycopg2.connect(database=\"postgres\",\n",
    "                        user=\"postgres\",\n",
    "                        password=\"apassword\",\n",
    "                        host=\"192.168.0.104\",\n",
    "                        port=\"5432\")\n",
    "\n",
    "# enable autocommit\n",
    "conn.autocommit = True\n",
    "\n",
    "# define cursor\n",
    "cur = conn.cursor()\n",
    "\n",
    "# create a table\n",
    "cur.execute(\"\"\"CREATE TABLE IF NOT EXISTS yelp_business_search\n",
    "               (id varchar PRIMARY KEY NOT NULL,\n",
    "                business jsonb NOT NULL)\"\"\")"
   ]
  },
  {
   "cell_type": "markdown",
   "metadata": {},
   "source": [
    "## Collect data from Yelp API"
   ]
  },
  {
   "cell_type": "code",
   "execution_count": 4,
   "metadata": {},
   "outputs": [],
   "source": [
    "# read in config file\n",
    "with open('/home/curtis/etc/yelp.yaml') as f:\n",
    "    config = yaml.load(f)\n",
    "    \n",
    "# get the API key\n",
    "api_key = config['yelp.com'][0]['key']"
   ]
  },
  {
   "cell_type": "code",
   "execution_count": 5,
   "metadata": {},
   "outputs": [],
   "source": [
    "def query_api(limit=50, offset=0):\n",
    "    \n",
    "    # define the base URL for the request\n",
    "    base_url = 'https://api.yelp.com/v3/businesses/search'\n",
    "\n",
    "    # define the header for the request\n",
    "    headers = {\n",
    "        'Authorization': 'Bearer %s' % api_key,\n",
    "    }\n",
    "\n",
    "    # define the parameters for the request\n",
    "    params = {\n",
    "        'location': 'boston',\n",
    "        'categories': 'coffee',\n",
    "        'limit': limit,\n",
    "        'offset': offset,\n",
    "    }\n",
    "\n",
    "    # submit the request to the API\n",
    "    response = requests.get(base_url, headers=headers, params=params)\n",
    "\n",
    "    # checek the status of the response\n",
    "    response.status_code\n",
    "\n",
    "    # save response data\n",
    "    data = response.json()\n",
    "    \n",
    "    return data"
   ]
  },
  {
   "cell_type": "code",
   "execution_count": 6,
   "metadata": {},
   "outputs": [
    {
     "name": "stdout",
     "output_type": "stream",
     "text": [
      "query #0 completed\n",
      "query #1 completed\n",
      "query #2 completed\n",
      "query #3 completed\n",
      "query #4 completed\n",
      "query #5 completed\n",
      "query #6 completed\n",
      "query #7 completed\n",
      "query #8 completed\n",
      "query #9 completed\n",
      "query #10 completed\n",
      "query #11 completed\n",
      "query #12 completed\n",
      "query #13 completed\n",
      "query #14 completed\n",
      "query #15 completed\n",
      "query #16 completed\n",
      "query #17 completed\n",
      "query #18 completed\n",
      "query #19 completed\n"
     ]
    }
   ],
   "source": [
    "# iterate over range and submit queries\n",
    "responses = []\n",
    "for i, n in enumerate(list(range(0,1000, 50))):\n",
    "    r = query_api(limit=50, offset=n)\n",
    "    print(\"query #{} completed\".format(i))\n",
    "    responses.append(r)"
   ]
  },
  {
   "cell_type": "code",
   "execution_count": 7,
   "metadata": {},
   "outputs": [
    {
     "name": "stdout",
     "output_type": "stream",
     "text": [
      "1000\n"
     ]
    }
   ],
   "source": [
    "# pull data frmo individual responses and combine\n",
    "data = []\n",
    "for line in responses:\n",
    "    if 'businesses' in line.keys():\n",
    "        data.extend(line['businesses'])\n",
    "    \n",
    "print(len(data))"
   ]
  },
  {
   "cell_type": "markdown",
   "metadata": {},
   "source": [
    "## Investigate structure of data returned from API"
   ]
  },
  {
   "cell_type": "code",
   "execution_count": 8,
   "metadata": {},
   "outputs": [
    {
     "data": {
      "text/plain": [
       "dict_keys(['name', 'url', 'transactions', 'review_count', 'phone', 'categories', 'rating', 'display_phone', 'coordinates', 'price', 'id', 'image_url', 'distance', 'location', 'is_closed', 'alias'])"
      ]
     },
     "execution_count": 8,
     "metadata": {},
     "output_type": "execute_result"
    }
   ],
   "source": [
    "# inspect repsonse structure\n",
    "data[0].keys()"
   ]
  },
  {
   "cell_type": "code",
   "execution_count": 9,
   "metadata": {},
   "outputs": [
    {
     "name": "stdout",
     "output_type": "stream",
     "text": [
      "{'alias': 'modern-pastry-shop-boston',\n",
      " 'categories': [{'alias': 'bakeries', 'title': 'Bakeries'},\n",
      "                {'alias': 'coffee', 'title': 'Coffee & Tea'},\n",
      "                {'alias': 'desserts', 'title': 'Desserts'}],\n",
      " 'coordinates': {'latitude': 42.36324, 'longitude': -71.05474},\n",
      " 'display_phone': '(617) 523-3783',\n",
      " 'distance': 2185.181158712615,\n",
      " 'id': '54ElwAyN-o8e4uvOkC85hw',\n",
      " 'image_url': 'https://s3-media1.fl.yelpcdn.com/bphoto/BBuJF89-g0zFa1HcCHmF0w/o.jpg',\n",
      " 'is_closed': False,\n",
      " 'location': {'address1': '257 Hanover St',\n",
      "              'address2': '',\n",
      "              'address3': '',\n",
      "              'city': 'Boston',\n",
      "              'country': 'US',\n",
      "              'display_address': ['257 Hanover St', 'Boston, MA 02113'],\n",
      "              'state': 'MA',\n",
      "              'zip_code': '02113'},\n",
      " 'name': 'Modern Pastry Shop',\n",
      " 'phone': '+16175233783',\n",
      " 'price': '$',\n",
      " 'rating': 4.0,\n",
      " 'review_count': 1596,\n",
      " 'transactions': ['delivery'],\n",
      " 'url': 'https://www.yelp.com/biz/modern-pastry-shop-boston?adjust_creative=MGVKNU5prVDnLKTWHJebZQ&utm_campaign=yelp_api_v3&utm_medium=api_v3_business_search&utm_source=MGVKNU5prVDnLKTWHJebZQ'}\n"
     ]
    }
   ],
   "source": [
    "# what is the first business look like?\n",
    "pprint(data[0])"
   ]
  },
  {
   "cell_type": "markdown",
   "metadata": {},
   "source": [
    "## Load raw source data into PostgreSQL database"
   ]
  },
  {
   "cell_type": "code",
   "execution_count": 10,
   "metadata": {},
   "outputs": [],
   "source": [
    "# iterate over response data and insert into a postgreSQL\n",
    "for n, i in enumerate(data):\n",
    "    \n",
    "    try:\n",
    "\n",
    "        # put data into databse\n",
    "        cur.execute(\"\"\"INSERT INTO yelp_business_search\n",
    "                       (id, business) \n",
    "                       VALUES (%s, %s)\"\"\", [i['id'], json.dumps(i)])\n",
    "\n",
    "    except:\n",
    "        \n",
    "        # print warning\n",
    "        #print(n)\n",
    "        pass"
   ]
  },
  {
   "cell_type": "code",
   "execution_count": null,
   "metadata": {},
   "outputs": [],
   "source": []
  }
 ],
 "metadata": {
  "kernelspec": {
   "display_name": "Python 3",
   "language": "python",
   "name": "python3"
  },
  "language_info": {
   "codemirror_mode": {
    "name": "ipython",
    "version": 3
   },
   "file_extension": ".py",
   "mimetype": "text/x-python",
   "name": "python",
   "nbconvert_exporter": "python",
   "pygments_lexer": "ipython3",
   "version": "3.5.5"
  }
 },
 "nbformat": 4,
 "nbformat_minor": 2
}
