{
 "cells": [
  {
   "cell_type": "markdown",
   "metadata": {},
   "source": [
    "# Example querying the Yelp API\n",
    "\n",
    "Based on https://github.com/Yelp/yelp-fusion/blob/master/fusion/python/sample.py\n",
    "\n",
    "To see the different API endpoints available visit https://www.yelp.com/developers/documentation/v3"
   ]
  },
  {
   "cell_type": "code",
   "execution_count": 2,
   "metadata": {},
   "outputs": [],
   "source": [
    "import yaml\n",
    "import requests\n",
    "from pprint import pprint"
   ]
  },
  {
   "cell_type": "code",
   "execution_count": 3,
   "metadata": {},
   "outputs": [],
   "source": [
    "# read in config file\n",
    "with open('/home/curtis/etc/yelp.yaml') as f:\n",
    "    config = yaml.load(f)\n",
    "    \n",
    "# get the API key\n",
    "api_key = config['yelp.com'][0]['key']"
   ]
  },
  {
   "cell_type": "code",
   "execution_count": 5,
   "metadata": {},
   "outputs": [],
   "source": [
    "# define the base URL for the request\n",
    "base_url = 'https://api.yelp.com/v3/businesses/search'\n",
    "\n",
    "# define the header for the request\n",
    "headers = {\n",
    "    'Authorization': 'Bearer %s' % api_key,\n",
    "}\n",
    "\n",
    "# define the parameters for the request\n",
    "params = {\n",
    "    'location': 'Boston',\n",
    "    'category': 'coffee'\n",
    "}\n",
    "\n",
    "# submit the request to the API\n",
    "response = requests.get(base_url, headers=headers, params=params)"
   ]
  },
  {
   "cell_type": "code",
   "execution_count": 6,
   "metadata": {},
   "outputs": [
    {
     "data": {
      "text/plain": [
       "200"
      ]
     },
     "execution_count": 6,
     "metadata": {},
     "output_type": "execute_result"
    }
   ],
   "source": [
    "# checek the status of the response\n",
    "response.status_code"
   ]
  },
  {
   "cell_type": "code",
   "execution_count": 9,
   "metadata": {},
   "outputs": [],
   "source": [
    "# save response data\n",
    "data = response.json()"
   ]
  },
  {
   "cell_type": "code",
   "execution_count": 10,
   "metadata": {},
   "outputs": [
    {
     "data": {
      "text/plain": [
       "dict_keys(['region', 'total', 'businesses'])"
      ]
     },
     "execution_count": 10,
     "metadata": {},
     "output_type": "execute_result"
    }
   ],
   "source": [
    "# inspect repsonse structure\n",
    "data.keys()"
   ]
  },
  {
   "cell_type": "code",
   "execution_count": 11,
   "metadata": {},
   "outputs": [
    {
     "data": {
      "text/plain": [
       "{'center': {'latitude': 42.34784169448538, 'longitude': -71.07124328613281}}"
      ]
     },
     "execution_count": 11,
     "metadata": {},
     "output_type": "execute_result"
    }
   ],
   "source": [
    "# what is region?\n",
    "data['region']"
   ]
  },
  {
   "cell_type": "code",
   "execution_count": 12,
   "metadata": {},
   "outputs": [
    {
     "data": {
      "text/plain": [
       "6700"
      ]
     },
     "execution_count": 12,
     "metadata": {},
     "output_type": "execute_result"
    }
   ],
   "source": [
    "# what is total?\n",
    "data['total']"
   ]
  },
  {
   "cell_type": "code",
   "execution_count": 13,
   "metadata": {},
   "outputs": [
    {
     "data": {
      "text/plain": [
       "list"
      ]
     },
     "execution_count": 13,
     "metadata": {},
     "output_type": "execute_result"
    }
   ],
   "source": [
    "# what type of object is businesses?\n",
    "type(data['businesses'])"
   ]
  },
  {
   "cell_type": "code",
   "execution_count": 14,
   "metadata": {},
   "outputs": [
    {
     "name": "stdout",
     "output_type": "stream",
     "text": [
      "{'alias': 'neptune-oyster-boston',\n",
      " 'categories': [{'alias': 'seafood', 'title': 'Seafood'},\n",
      "                {'alias': 'bars', 'title': 'Bars'}],\n",
      " 'coordinates': {'latitude': 42.3632711771092, 'longitude': -71.0560575975533},\n",
      " 'display_phone': '(617) 742-3474',\n",
      " 'distance': 2121.4610478884797,\n",
      " 'id': 'y2w6rFaO0XEiG5mFfOsiFA',\n",
      " 'image_url': 'https://s3-media3.fl.yelpcdn.com/bphoto/oF9AqeZFT3Kg0N4peP_-4A/o.jpg',\n",
      " 'is_closed': False,\n",
      " 'location': {'address1': '63 Salem St',\n",
      "              'address2': '',\n",
      "              'address3': '',\n",
      "              'city': 'Boston',\n",
      "              'country': 'US',\n",
      "              'display_address': ['63 Salem St', 'Boston, MA 02113'],\n",
      "              'state': 'MA',\n",
      "              'zip_code': '02113'},\n",
      " 'name': 'Neptune Oyster',\n",
      " 'phone': '+16177423474',\n",
      " 'price': '$$$',\n",
      " 'rating': 4.5,\n",
      " 'review_count': 4180,\n",
      " 'transactions': [],\n",
      " 'url': 'https://www.yelp.com/biz/neptune-oyster-boston?adjust_creative=MGVKNU5prVDnLKTWHJebZQ&utm_campaign=yelp_api_v3&utm_medium=api_v3_business_search&utm_source=MGVKNU5prVDnLKTWHJebZQ'}\n"
     ]
    }
   ],
   "source": [
    "# what is the first business look like?\n",
    "pprint(data['businesses'][0])"
   ]
  },
  {
   "cell_type": "code",
   "execution_count": null,
   "metadata": {},
   "outputs": [],
   "source": []
  }
 ],
 "metadata": {
  "kernelspec": {
   "display_name": "Python 3",
   "language": "python",
   "name": "python3"
  },
  "language_info": {
   "codemirror_mode": {
    "name": "ipython",
    "version": 3
   },
   "file_extension": ".py",
   "mimetype": "text/x-python",
   "name": "python",
   "nbconvert_exporter": "python",
   "pygments_lexer": "ipython3",
   "version": "3.5.5"
  }
 },
 "nbformat": 4,
 "nbformat_minor": 2
}
