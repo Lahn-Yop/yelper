{
 "cells": [
  {
   "cell_type": "markdown",
   "metadata": {},
   "source": [
    "# Example querying the Yelp API\n",
    "\n",
    "Based on https://github.com/Yelp/yelp-fusion/blob/master/fusion/python/sample.py\n",
    "\n",
    "To see the different API endpoints available visit https://www.yelp.com/developers/documentation/v3"
   ]
  },
  {
   "cell_type": "code",
   "execution_count": 1,
   "metadata": {},
   "outputs": [],
   "source": [
    "import yaml\n",
    "import requests\n",
    "from pprint import pprint"
   ]
  },
  {
   "cell_type": "code",
   "execution_count": 2,
   "metadata": {},
   "outputs": [],
   "source": [
    "# read in config file\n",
    "with open('/home/curtis/etc/yelp.yaml') as f:\n",
    "    config = yaml.load(f)\n",
    "    \n",
    "# get the API key\n",
    "api_key = config['yelp.com'][0]['key']"
   ]
  },
  {
   "cell_type": "code",
   "execution_count": 3,
   "metadata": {},
   "outputs": [],
   "source": [
    "# define the base URL for the request\n",
    "base_url = 'https://api.yelp.com/v3/businesses/search'\n",
    "\n",
    "# define the header for the request\n",
    "headers = {\n",
    "    'Authorization': 'Bearer %s' % api_key,\n",
    "}\n",
    "\n",
    "# define the parameters for the request\n",
    "params = {\n",
    "    'location': 'Boston',\n",
    "    'categories': 'coffee'\n",
    "}\n",
    "\n",
    "# submit the request to the API\n",
    "response = requests.get(base_url, headers=headers, params=params)"
   ]
  },
  {
   "cell_type": "code",
   "execution_count": 4,
   "metadata": {},
   "outputs": [
    {
     "data": {
      "text/plain": [
       "200"
      ]
     },
     "execution_count": 4,
     "metadata": {},
     "output_type": "execute_result"
    }
   ],
   "source": [
    "# checek the status of the response\n",
    "response.status_code"
   ]
  },
  {
   "cell_type": "code",
   "execution_count": 5,
   "metadata": {},
   "outputs": [],
   "source": [
    "# save response data\n",
    "data = response.json()"
   ]
  },
  {
   "cell_type": "code",
   "execution_count": 6,
   "metadata": {},
   "outputs": [
    {
     "data": {
      "text/plain": [
       "dict_keys(['total', 'region', 'businesses'])"
      ]
     },
     "execution_count": 6,
     "metadata": {},
     "output_type": "execute_result"
    }
   ],
   "source": [
    "# inspect repsonse structure\n",
    "data.keys()"
   ]
  },
  {
   "cell_type": "code",
   "execution_count": 7,
   "metadata": {},
   "outputs": [
    {
     "data": {
      "text/plain": [
       "{'center': {'latitude': 42.34784169448538, 'longitude': -71.07124328613281}}"
      ]
     },
     "execution_count": 7,
     "metadata": {},
     "output_type": "execute_result"
    }
   ],
   "source": [
    "# what is region?\n",
    "data['region']"
   ]
  },
  {
   "cell_type": "code",
   "execution_count": 8,
   "metadata": {},
   "outputs": [
    {
     "data": {
      "text/plain": [
       "1100"
      ]
     },
     "execution_count": 8,
     "metadata": {},
     "output_type": "execute_result"
    }
   ],
   "source": [
    "# what is total?\n",
    "data['total']"
   ]
  },
  {
   "cell_type": "code",
   "execution_count": 9,
   "metadata": {},
   "outputs": [
    {
     "data": {
      "text/plain": [
       "list"
      ]
     },
     "execution_count": 9,
     "metadata": {},
     "output_type": "execute_result"
    }
   ],
   "source": [
    "# what type of object is businesses?\n",
    "type(data['businesses'])"
   ]
  },
  {
   "cell_type": "code",
   "execution_count": 10,
   "metadata": {},
   "outputs": [
    {
     "name": "stdout",
     "output_type": "stream",
     "text": [
      "{'alias': 'modern-pastry-shop-boston',\n",
      " 'categories': [{'alias': 'bakeries', 'title': 'Bakeries'},\n",
      "                {'alias': 'coffee', 'title': 'Coffee & Tea'},\n",
      "                {'alias': 'desserts', 'title': 'Desserts'}],\n",
      " 'coordinates': {'latitude': 42.36324, 'longitude': -71.05474},\n",
      " 'display_phone': '(617) 523-3783',\n",
      " 'distance': 2185.181158712615,\n",
      " 'id': '54ElwAyN-o8e4uvOkC85hw',\n",
      " 'image_url': 'https://s3-media1.fl.yelpcdn.com/bphoto/ahWS2VxSune19MjENJbWLA/o.jpg',\n",
      " 'is_closed': False,\n",
      " 'location': {'address1': '257 Hanover St',\n",
      "              'address2': '',\n",
      "              'address3': '',\n",
      "              'city': 'Boston',\n",
      "              'country': 'US',\n",
      "              'display_address': ['257 Hanover St', 'Boston, MA 02113'],\n",
      "              'state': 'MA',\n",
      "              'zip_code': '02113'},\n",
      " 'name': 'Modern Pastry Shop',\n",
      " 'phone': '+16175233783',\n",
      " 'price': '$',\n",
      " 'rating': 4.0,\n",
      " 'review_count': 1577,\n",
      " 'transactions': ['delivery'],\n",
      " 'url': 'https://www.yelp.com/biz/modern-pastry-shop-boston?adjust_creative=MGVKNU5prVDnLKTWHJebZQ&utm_campaign=yelp_api_v3&utm_medium=api_v3_business_search&utm_source=MGVKNU5prVDnLKTWHJebZQ'}\n"
     ]
    }
   ],
   "source": [
    "# what is the first business look like?\n",
    "pprint(data['businesses'][0])"
   ]
  },
  {
   "cell_type": "code",
   "execution_count": 13,
   "metadata": {},
   "outputs": [
    {
     "name": "stdout",
     "output_type": "stream",
     "text": [
      "54ElwAyN-o8e4uvOkC85hw\n"
     ]
    }
   ],
   "source": [
    "# get the ID that was returned in that first business\n",
    "id_num = data['businesses'][0]['id']\n",
    "\n",
    "print(id_num)"
   ]
  },
  {
   "cell_type": "code",
   "execution_count": 15,
   "metadata": {},
   "outputs": [
    {
     "data": {
      "text/plain": [
       "200"
      ]
     },
     "execution_count": 15,
     "metadata": {},
     "output_type": "execute_result"
    }
   ],
   "source": [
    "# query that id against the business details API\n",
    "# define the base URL for the request\n",
    "base_url = 'https://api.yelp.com/v3/businesses/{}'.format(id_num)\n",
    "\n",
    "# define the header for the request\n",
    "headers = {\n",
    "    'Authorization': 'Bearer %s' % api_key,\n",
    "}\n",
    "\n",
    "# define the parameters for the request\n",
    "params = {\n",
    "\n",
    "}\n",
    "\n",
    "# submit the request to the API\n",
    "response = requests.get(base_url, headers=headers, params=params)\n",
    "\n",
    "# check the status code\n",
    "response.status_code"
   ]
  },
  {
   "cell_type": "code",
   "execution_count": 16,
   "metadata": {},
   "outputs": [
    {
     "data": {
      "text/plain": [
       "{'alias': 'modern-pastry-shop-boston',\n",
       " 'categories': [{'alias': 'bakeries', 'title': 'Bakeries'},\n",
       "  {'alias': 'coffee', 'title': 'Coffee & Tea'},\n",
       "  {'alias': 'desserts', 'title': 'Desserts'}],\n",
       " 'coordinates': {'latitude': 42.36324, 'longitude': -71.05474},\n",
       " 'display_phone': '(617) 523-3783',\n",
       " 'hours': [{'hours_type': 'REGULAR',\n",
       "   'is_open_now': True,\n",
       "   'open': [{'day': 0, 'end': '2300', 'is_overnight': False, 'start': '0700'},\n",
       "    {'day': 1, 'end': '2300', 'is_overnight': False, 'start': '0700'},\n",
       "    {'day': 2, 'end': '2300', 'is_overnight': False, 'start': '0700'},\n",
       "    {'day': 3, 'end': '2300', 'is_overnight': False, 'start': '0700'},\n",
       "    {'day': 4, 'end': '0000', 'is_overnight': False, 'start': '0700'},\n",
       "    {'day': 5, 'end': '0000', 'is_overnight': False, 'start': '0700'},\n",
       "    {'day': 6, 'end': '2300', 'is_overnight': False, 'start': '0700'}]}],\n",
       " 'id': '54ElwAyN-o8e4uvOkC85hw',\n",
       " 'image_url': 'https://s3-media1.fl.yelpcdn.com/bphoto/ahWS2VxSune19MjENJbWLA/o.jpg',\n",
       " 'is_claimed': True,\n",
       " 'is_closed': False,\n",
       " 'location': {'address1': '257 Hanover St',\n",
       "  'address2': '',\n",
       "  'address3': '',\n",
       "  'city': 'Boston',\n",
       "  'country': 'US',\n",
       "  'cross_streets': 'Richmond St & Board Aly',\n",
       "  'display_address': ['257 Hanover St', 'Boston, MA 02113'],\n",
       "  'state': 'MA',\n",
       "  'zip_code': '02113'},\n",
       " 'name': 'Modern Pastry Shop',\n",
       " 'phone': '+16175233783',\n",
       " 'photos': ['https://s3-media1.fl.yelpcdn.com/bphoto/ahWS2VxSune19MjENJbWLA/o.jpg',\n",
       "  'https://s3-media2.fl.yelpcdn.com/bphoto/sClgHj2roYutXcuGS78CKQ/o.jpg',\n",
       "  'https://s3-media1.fl.yelpcdn.com/bphoto/0fD-KybnZ_9htV0Q_91ReQ/o.jpg'],\n",
       " 'price': '$',\n",
       " 'rating': 4.0,\n",
       " 'review_count': 1577,\n",
       " 'transactions': ['delivery'],\n",
       " 'url': 'https://www.yelp.com/biz/modern-pastry-shop-boston?adjust_creative=MGVKNU5prVDnLKTWHJebZQ&utm_campaign=yelp_api_v3&utm_medium=api_v3_business_lookup&utm_source=MGVKNU5prVDnLKTWHJebZQ'}"
      ]
     },
     "execution_count": 16,
     "metadata": {},
     "output_type": "execute_result"
    }
   ],
   "source": [
    "# inspect the results\n",
    "response.json()"
   ]
  },
  {
   "cell_type": "code",
   "execution_count": null,
   "metadata": {},
   "outputs": [],
   "source": []
  }
 ],
 "metadata": {
  "kernelspec": {
   "display_name": "Python 3",
   "language": "python",
   "name": "python3"
  },
  "language_info": {
   "codemirror_mode": {
    "name": "ipython",
    "version": 3
   },
   "file_extension": ".py",
   "mimetype": "text/x-python",
   "name": "python",
   "nbconvert_exporter": "python",
   "pygments_lexer": "ipython3",
   "version": "3.5.5"
  }
 },
 "nbformat": 4,
 "nbformat_minor": 2
}
