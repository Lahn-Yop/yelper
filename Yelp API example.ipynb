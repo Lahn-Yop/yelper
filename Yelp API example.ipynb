{
 "cells": [
  {
   "cell_type": "markdown",
   "metadata": {},
   "source": [
    "# Example querying the Yelp API\n",
    "\n",
    "Based on https://github.com/Yelp/yelp-fusion/blob/master/fusion/python/sample.py\n",
    "\n",
    "To see the different API endpoints available visit https://www.yelp.com/developers/documentation/v3"
   ]
  },
  {
   "cell_type": "code",
   "execution_count": 1,
   "metadata": {},
   "outputs": [],
   "source": [
    "import yaml\n",
    "import requests\n",
    "from pprint import pprint"
   ]
  },
  {
   "cell_type": "code",
   "execution_count": 2,
   "metadata": {},
   "outputs": [],
   "source": [
    "# read in config file\n",
    "with open('/home/curtis/etc/yelp.yaml') as f:\n",
    "    config = yaml.load(f)\n",
    "    \n",
    "# get the API key\n",
    "api_key = config['yelp.com'][0]['key']"
   ]
  },
  {
   "cell_type": "code",
   "execution_count": 3,
   "metadata": {},
   "outputs": [],
   "source": [
    "# define the base URL for the request\n",
    "base_url = 'https://api.yelp.com/v3/businesses/6zTRjqPzcvg6bC8QQu34hQ'\n",
    "\n",
    "# define the header for the request\n",
    "headers = {\n",
    "    'Authorization': 'Bearer %s' % api_key,\n",
    "}\n",
    "\n",
    "# define the parameters for the request\n",
    "params = {\n",
    "\n",
    "}\n",
    "\n",
    "# submit the request to the API\n",
    "response = requests.get(base_url, headers=headers, params=params)"
   ]
  },
  {
   "cell_type": "code",
   "execution_count": 4,
   "metadata": {},
   "outputs": [
    {
     "data": {
      "text/plain": [
       "200"
      ]
     },
     "execution_count": 4,
     "metadata": {},
     "output_type": "execute_result"
    }
   ],
   "source": [
    "# checek the status of the response\n",
    "response.status_code"
   ]
  },
  {
   "cell_type": "code",
   "execution_count": 5,
   "metadata": {},
   "outputs": [
    {
     "name": "stdout",
     "output_type": "stream",
     "text": [
      "{'alias': 'true-grounds-bakery-and-coffee-house-somerville',\n",
      " 'categories': [{'alias': 'coffee', 'title': 'Coffee & Tea'},\n",
      "                {'alias': 'sandwiches', 'title': 'Sandwiches'},\n",
      "                {'alias': 'wraps', 'title': 'Wraps'}],\n",
      " 'coordinates': {'latitude': 42.4001263, 'longitude': -71.1123759},\n",
      " 'display_phone': '(617) 591-9559',\n",
      " 'hours': [{'hours_type': 'REGULAR',\n",
      "            'is_open_now': True,\n",
      "            'open': [{'day': 0,\n",
      "                      'end': '1800',\n",
      "                      'is_overnight': False,\n",
      "                      'start': '0700'},\n",
      "                     {'day': 1,\n",
      "                      'end': '1800',\n",
      "                      'is_overnight': False,\n",
      "                      'start': '0700'},\n",
      "                     {'day': 2,\n",
      "                      'end': '1800',\n",
      "                      'is_overnight': False,\n",
      "                      'start': '0700'},\n",
      "                     {'day': 3,\n",
      "                      'end': '1800',\n",
      "                      'is_overnight': False,\n",
      "                      'start': '0700'},\n",
      "                     {'day': 4,\n",
      "                      'end': '1800',\n",
      "                      'is_overnight': False,\n",
      "                      'start': '0700'},\n",
      "                     {'day': 5,\n",
      "                      'end': '1800',\n",
      "                      'is_overnight': False,\n",
      "                      'start': '0800'},\n",
      "                     {'day': 6,\n",
      "                      'end': '1800',\n",
      "                      'is_overnight': False,\n",
      "                      'start': '0800'}]}],\n",
      " 'id': '6zTRjqPzcvg6bC8QQu34hQ',\n",
      " 'image_url': 'https://s3-media3.fl.yelpcdn.com/bphoto/c-5gWtjICOniZfw5B-95KA/o.jpg',\n",
      " 'is_claimed': True,\n",
      " 'is_closed': False,\n",
      " 'location': {'address1': '717 Broadway',\n",
      "              'address2': '',\n",
      "              'address3': '',\n",
      "              'city': 'Somerville',\n",
      "              'country': 'US',\n",
      "              'cross_streets': '',\n",
      "              'display_address': ['717 Broadway', 'Somerville, MA 02144'],\n",
      "              'state': 'MA',\n",
      "              'zip_code': '02144'},\n",
      " 'name': 'True Grounds Bakery & Coffee House',\n",
      " 'phone': '+16175919559',\n",
      " 'photos': ['https://s3-media3.fl.yelpcdn.com/bphoto/c-5gWtjICOniZfw5B-95KA/o.jpg',\n",
      "            'https://s3-media1.fl.yelpcdn.com/bphoto/57RU2pMyvwMqbfwVyN2geg/o.jpg',\n",
      "            'https://s3-media1.fl.yelpcdn.com/bphoto/kTHegKWxiPcIWRvPu2FwvQ/o.jpg'],\n",
      " 'price': '$',\n",
      " 'rating': 4.0,\n",
      " 'review_count': 278,\n",
      " 'transactions': ['delivery'],\n",
      " 'url': 'https://www.yelp.com/biz/true-grounds-bakery-and-coffee-house-somerville?adjust_creative=MGVKNU5prVDnLKTWHJebZQ&utm_campaign=yelp_api_v3&utm_medium=api_v3_business_lookup&utm_source=MGVKNU5prVDnLKTWHJebZQ'}\n"
     ]
    }
   ],
   "source": [
    "# print response content\n",
    "pprint(response.json())"
   ]
  },
  {
   "cell_type": "code",
   "execution_count": null,
   "metadata": {},
   "outputs": [],
   "source": []
  }
 ],
 "metadata": {
  "kernelspec": {
   "display_name": "Python 3",
   "language": "python",
   "name": "python3"
  },
  "language_info": {
   "codemirror_mode": {
    "name": "ipython",
    "version": 3
   },
   "file_extension": ".py",
   "mimetype": "text/x-python",
   "name": "python",
   "nbconvert_exporter": "python",
   "pygments_lexer": "ipython3",
   "version": "3.5.5"
  }
 },
 "nbformat": 4,
 "nbformat_minor": 2
}
